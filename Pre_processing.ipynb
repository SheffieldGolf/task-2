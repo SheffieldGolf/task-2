{
 "cells": [
  {
   "cell_type": "code",
   "execution_count": 1,
   "metadata": {},
   "outputs": [],
   "source": [
    "import pandas as pd\n",
    "import numpy as np\n",
    "import warnings\n",
    "import nltk\n",
    "import re\n",
    "import emoji\n",
    "from nltk import word_tokenize\n",
    "from nltk.corpus import stopwords\n",
    "from trectools import TrecQrel\n",
    "\n",
    "np.random.seed(111)"
   ]
  },
  {
   "cell_type": "code",
   "execution_count": 9,
   "metadata": {},
   "outputs": [],
   "source": [
    "vclaim = pd.read_csv('data/verified_claims.docs.tsv',sep = '\\t',header = 0)\n",
    "tweet = pd.read_csv('data/train/tweets.queries.tsv',sep = '\\t',header =0)\n",
    "qrels = TrecQrel('data/train/tweet-vclaim-pairs.qrels')"
   ]
  },
  {
   "cell_type": "code",
   "execution_count": 3,
   "metadata": {},
   "outputs": [
    {
     "name": "stderr",
     "output_type": "stream",
     "text": [
      "[nltk_data] Downloading package stopwords to\n",
      "[nltk_data]     /Users/caoqianyu/nltk_data...\n",
      "[nltk_data]   Package stopwords is already up-to-date!\n",
      "[nltk_data] Downloading package punkt to /Users/caoqianyu/nltk_data...\n",
      "[nltk_data]   Package punkt is already up-to-date!\n"
     ]
    }
   ],
   "source": [
    "nltk.download('stopwords')\n",
    "nltk.download('punkt')\n",
    "stopwords = stopwords.words('english')\n"
   ]
  },
  {
   "cell_type": "code",
   "execution_count": 4,
   "metadata": {},
   "outputs": [],
   "source": [
    "def remove_emoji(text):\n",
    "    return emoji.get_emoji_regexp().sub(u'', text)"
   ]
  },
  {
   "cell_type": "code",
   "execution_count": 5,
   "metadata": {},
   "outputs": [],
   "source": [
    "def pre_processing(data,stemming = False, stopwords = stopwords):\n",
    "    \n",
    "    for i in range(len(data)):\n",
    "        loc_name = data.columns[1]\n",
    "        #lower case\n",
    "        text = data.loc[i,loc_name]\n",
    "        text = text.lower()\n",
    "        \n",
    "        #tokenization\n",
    "        text_token = word_tokenize(text)\n",
    "       \n",
    "    \n",
    "        #stopwords removel\n",
    "        text_pro = []\n",
    "        for word in text_token:\n",
    "            if word not in stopwords:\n",
    "                text_pro.append(word)\n",
    "    \n",
    "        #stemming \n",
    "        if stemming ==True:\n",
    "            ps = PorterStemmer()\n",
    "            text_pro = [ps.stem(vocab) for vocab in text_stop]\n",
    "            \n",
    "        #removel punctuation\n",
    "        characters = [',','’', '\\'','.','DBSCAN', ':', ';', '?', '(', ')', '[', ']', '&', '!', '*', '@', '#', '$', '%','-','...','^','{','}']\n",
    "        final_word = [word for word in text_pro if word not in characters]\n",
    "        \n",
    "        final_text = str()\n",
    "        for word in final_word:\n",
    "            final_text += word\n",
    "            final_text +=' '\n",
    "        data.loc[i,loc_name] = remove_emoji(final_text)\n",
    "        \n",
    "    \n",
    "    return data\n",
    "    \n",
    "    \n",
    "    "
   ]
  },
  {
   "cell_type": "code",
   "execution_count": 10,
   "metadata": {},
   "outputs": [],
   "source": [
    "vclaim = pre_processing(vclaim)\n",
    "tweet = pre_processing(tweet)"
   ]
  },
  {
   "cell_type": "code",
   "execution_count": 23,
   "metadata": {},
   "outputs": [
    {
     "data": {
      "text/html": [
       "<div>\n",
       "<style scoped>\n",
       "    .dataframe tbody tr th:only-of-type {\n",
       "        vertical-align: middle;\n",
       "    }\n",
       "\n",
       "    .dataframe tbody tr th {\n",
       "        vertical-align: top;\n",
       "    }\n",
       "\n",
       "    .dataframe thead th {\n",
       "        text-align: right;\n",
       "    }\n",
       "</style>\n",
       "<table border=\"1\" class=\"dataframe\">\n",
       "  <thead>\n",
       "    <tr style=\"text-align: right;\">\n",
       "      <th></th>\n",
       "      <th>Unnamed: 0</th>\n",
       "      <th>tweet_content</th>\n",
       "    </tr>\n",
       "  </thead>\n",
       "  <tbody>\n",
       "    <tr>\n",
       "      <th>0</th>\n",
       "      <td>106</td>\n",
       "      <td>biden grand wizard kkk playing lying using vot...</td>\n",
       "    </tr>\n",
       "    <tr>\n",
       "      <th>1</th>\n",
       "      <td>274</td>\n",
       "      <td>america “ build wall steel wall high heaven ” ...</td>\n",
       "    </tr>\n",
       "    <tr>\n",
       "      <th>2</th>\n",
       "      <td>871</td>\n",
       "      <td>thanks white house chief staff wonderful pictu...</td>\n",
       "    </tr>\n",
       "    <tr>\n",
       "      <th>3</th>\n",
       "      <td>876</td>\n",
       "      <td>john lewis said inauguration `` first one 've ...</td>\n",
       "    </tr>\n",
       "    <tr>\n",
       "      <th>4</th>\n",
       "      <td>138</td>\n",
       "      <td>christian insult muslims berniesanders wrong p...</td>\n",
       "    </tr>\n",
       "  </tbody>\n",
       "</table>\n",
       "</div>"
      ],
      "text/plain": [
       "   Unnamed: 0                                      tweet_content\n",
       "0         106  biden grand wizard kkk playing lying using vot...\n",
       "1         274  america “ build wall steel wall high heaven ” ...\n",
       "2         871  thanks white house chief staff wonderful pictu...\n",
       "3         876  john lewis said inauguration `` first one 've ...\n",
       "4         138  christian insult muslims berniesanders wrong p..."
      ]
     },
     "execution_count": 23,
     "metadata": {},
     "output_type": "execute_result"
    }
   ],
   "source": [
    "tweet.head()"
   ]
  },
  {
   "cell_type": "code",
   "execution_count": null,
   "metadata": {},
   "outputs": [],
   "source": []
  }
 ],
 "metadata": {
  "kernelspec": {
   "display_name": "Python 3",
   "language": "python",
   "name": "python3"
  },
  "language_info": {
   "codemirror_mode": {
    "name": "ipython",
    "version": 3
   },
   "file_extension": ".py",
   "mimetype": "text/x-python",
   "name": "python",
   "nbconvert_exporter": "python",
   "pygments_lexer": "ipython3",
   "version": "3.7.3"
  }
 },
 "nbformat": 4,
 "nbformat_minor": 2
}
