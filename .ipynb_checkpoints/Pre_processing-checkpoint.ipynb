{
 "cells": [
  {
   "cell_type": "code",
   "execution_count": 1,
   "metadata": {},
   "outputs": [],
   "source": [
    "import pandas as pd\n",
    "import numpy as np\n",
    "import warnings\n",
    "import nltk\n",
    "import re\n",
    "import emoji\n",
    "from nltk import word_tokenize\n",
    "from nltk.corpus import stopwords\n",
    "from trectools import TrecQrel\n",
    "\n",
    "np.random.seed(111)"
   ]
  },
  {
   "cell_type": "code",
   "execution_count": 2,
   "metadata": {},
   "outputs": [],
   "source": [
    "vclaim = pd.read_csv('data/verified_claims.docs.tsv',sep = '\\t',header = 0)\n",
    "tweet = pd.read_csv('data/train/tweets.queries.tsv',sep = '\\t',header =0)\n",
    "qrels = TrecQrel('data/train/tweet-vclaim-pairs.qrels')"
   ]
  },
  {
   "cell_type": "code",
   "execution_count": 3,
   "metadata": {},
   "outputs": [
    {
     "name": "stderr",
     "output_type": "stream",
     "text": [
      "[nltk_data] Downloading package stopwords to\n",
      "[nltk_data]     /Users/administrator/nltk_data...\n",
      "[nltk_data]   Package stopwords is already up-to-date!\n",
      "[nltk_data] Downloading package punkt to\n",
      "[nltk_data]     /Users/administrator/nltk_data...\n",
      "[nltk_data]   Unzipping tokenizers/punkt.zip.\n"
     ]
    }
   ],
   "source": [
    "nltk.download('stopwords')\n",
    "nltk.download('punkt')\n",
    "stopwords = stopwords.words('english')\n"
   ]
  },
  {
   "cell_type": "code",
   "execution_count": 4,
   "metadata": {},
   "outputs": [],
   "source": [
    "def remove_emoji(text):\n",
    "    return emoji.get_emoji_regexp().sub(u'', text)"
   ]
  },
  {
   "cell_type": "code",
   "execution_count": 5,
   "metadata": {},
   "outputs": [],
   "source": [
    "def pre_processing(data,column_index,stemming = False, stopwords = stopwords):\n",
    "    \n",
    "    for i in range(len(data)):\n",
    "        loc_name = data.columns[column_index]\n",
    "        #lower case\n",
    "        text = data.loc[i,loc_name]\n",
    "        text = text.lower()\n",
    "        \n",
    "        #tokenization\n",
    "        text_token = word_tokenize(text)\n",
    "       \n",
    "    \n",
    "        #stopwords removel\n",
    "        text_pro = []\n",
    "        for word in text_token:\n",
    "            if word not in stopwords:\n",
    "                text_pro.append(word)\n",
    "    \n",
    "        #stemming \n",
    "        if stemming ==True:\n",
    "            ps = PorterStemmer()\n",
    "            text_pro = [ps.stem(vocab) for vocab in text_stop]\n",
    "            \n",
    "        #removel punctuation\n",
    "        characters = [',','’', '\\'','.','DBSCAN', ':', ';', '?', '(', ')', '[', ']', '&', '!', '*', '@', '#', '$', '%','-','...','^','{','}']\n",
    "        final_word = [word for word in text_pro if word not in characters]\n",
    "        \n",
    "        final_text = str()\n",
    "        for word in final_word:\n",
    "            final_text += word\n",
    "            final_text +=' '\n",
    "        data.loc[i,loc_name] = remove_emoji(final_text)\n",
    "        \n",
    "    \n",
    "    return data\n",
    "    \n",
    "    \n",
    "    "
   ]
  },
  {
   "cell_type": "code",
   "execution_count": 6,
   "metadata": {},
   "outputs": [
    {
     "data": {
      "text/html": [
       "<div>\n",
       "<style scoped>\n",
       "    .dataframe tbody tr th:only-of-type {\n",
       "        vertical-align: middle;\n",
       "    }\n",
       "\n",
       "    .dataframe tbody tr th {\n",
       "        vertical-align: top;\n",
       "    }\n",
       "\n",
       "    .dataframe thead th {\n",
       "        text-align: right;\n",
       "    }\n",
       "</style>\n",
       "<table border=\"1\" class=\"dataframe\">\n",
       "  <thead>\n",
       "    <tr style=\"text-align: right;\">\n",
       "      <th></th>\n",
       "      <th>Unnamed: 0</th>\n",
       "      <th>vclaim</th>\n",
       "      <th>title</th>\n",
       "    </tr>\n",
       "  </thead>\n",
       "  <tbody>\n",
       "    <tr>\n",
       "      <th>0</th>\n",
       "      <td>0</td>\n",
       "      <td>122 detainees released from confinement at Gua...</td>\n",
       "      <td>Did 122 Prisoners Released from Guantanamo by ...</td>\n",
       "    </tr>\n",
       "    <tr>\n",
       "      <th>1</th>\n",
       "      <td>1</td>\n",
       "      <td>A \"Trump and Obama by the Numbers\" meme recoun...</td>\n",
       "      <td>Does This Meme Accurately Show ‘Trump and Obam...</td>\n",
       "    </tr>\n",
       "    <tr>\n",
       "      <th>2</th>\n",
       "      <td>2</td>\n",
       "      <td>A \"large-scale killing\" of white farmers is ta...</td>\n",
       "      <td>Is a ‘Large-Scale Killing’ of White Farmers Un...</td>\n",
       "    </tr>\n",
       "    <tr>\n",
       "      <th>3</th>\n",
       "      <td>3</td>\n",
       "      <td>A \"law to separate families\" was enacted prior...</td>\n",
       "      <td>Was the ‘Law to Separate Families’ Passed in 1...</td>\n",
       "    </tr>\n",
       "    <tr>\n",
       "      <th>4</th>\n",
       "      <td>4</td>\n",
       "      <td>A \"newly uncovered\" photograph reveals Alexand...</td>\n",
       "      <td>Does an Image Show Ocasio-Cortez Fake-Crying a...</td>\n",
       "    </tr>\n",
       "  </tbody>\n",
       "</table>\n",
       "</div>"
      ],
      "text/plain": [
       "   Unnamed: 0                                             vclaim  \\\n",
       "0           0  122 detainees released from confinement at Gua...   \n",
       "1           1  A \"Trump and Obama by the Numbers\" meme recoun...   \n",
       "2           2  A \"large-scale killing\" of white farmers is ta...   \n",
       "3           3  A \"law to separate families\" was enacted prior...   \n",
       "4           4  A \"newly uncovered\" photograph reveals Alexand...   \n",
       "\n",
       "                                               title  \n",
       "0  Did 122 Prisoners Released from Guantanamo by ...  \n",
       "1  Does This Meme Accurately Show ‘Trump and Obam...  \n",
       "2  Is a ‘Large-Scale Killing’ of White Farmers Un...  \n",
       "3  Was the ‘Law to Separate Families’ Passed in 1...  \n",
       "4  Does an Image Show Ocasio-Cortez Fake-Crying a...  "
      ]
     },
     "execution_count": 6,
     "metadata": {},
     "output_type": "execute_result"
    }
   ],
   "source": [
    "vclaim.head()"
   ]
  },
  {
   "cell_type": "code",
   "execution_count": 7,
   "metadata": {},
   "outputs": [],
   "source": [
    "vclaim = pre_processing(vclaim,1)\n",
    "vclaim = pre_processing(vclaim,2)\n",
    "tweet = pre_processing(tweet,1)"
   ]
  },
  {
   "cell_type": "code",
   "execution_count": 9,
   "metadata": {},
   "outputs": [
    {
     "data": {
      "text/html": [
       "<div>\n",
       "<style scoped>\n",
       "    .dataframe tbody tr th:only-of-type {\n",
       "        vertical-align: middle;\n",
       "    }\n",
       "\n",
       "    .dataframe tbody tr th {\n",
       "        vertical-align: top;\n",
       "    }\n",
       "\n",
       "    .dataframe thead th {\n",
       "        text-align: right;\n",
       "    }\n",
       "</style>\n",
       "<table border=\"1\" class=\"dataframe\">\n",
       "  <thead>\n",
       "    <tr style=\"text-align: right;\">\n",
       "      <th></th>\n",
       "      <th>Unnamed: 0</th>\n",
       "      <th>vclaim</th>\n",
       "      <th>title</th>\n",
       "    </tr>\n",
       "  </thead>\n",
       "  <tbody>\n",
       "    <tr>\n",
       "      <th>0</th>\n",
       "      <td>0</td>\n",
       "      <td>122 detainees released confinement guantanamo ...</td>\n",
       "      <td>122 prisoners released guantanamo president ob...</td>\n",
       "    </tr>\n",
       "    <tr>\n",
       "      <th>1</th>\n",
       "      <td>1</td>\n",
       "      <td>`` trump obama numbers '' meme recounts accura...</td>\n",
       "      <td>meme accurately show ‘ trump obama numbers</td>\n",
       "    </tr>\n",
       "    <tr>\n",
       "      <th>2</th>\n",
       "      <td>2</td>\n",
       "      <td>`` large-scale killing '' white farmers taking...</td>\n",
       "      <td>‘ large-scale killing white farmers underway s...</td>\n",
       "    </tr>\n",
       "    <tr>\n",
       "      <th>3</th>\n",
       "      <td>3</td>\n",
       "      <td>`` law separate families '' enacted prior apri...</td>\n",
       "      <td>‘ law separate families passed 1997 ‘ democrats</td>\n",
       "    </tr>\n",
       "    <tr>\n",
       "      <th>4</th>\n",
       "      <td>4</td>\n",
       "      <td>`` newly uncovered '' photograph reveals alexa...</td>\n",
       "      <td>image show ocasio-cortez fake-crying migrant c...</td>\n",
       "    </tr>\n",
       "  </tbody>\n",
       "</table>\n",
       "</div>"
      ],
      "text/plain": [
       "   Unnamed: 0                                             vclaim  \\\n",
       "0           0  122 detainees released confinement guantanamo ...   \n",
       "1           1  `` trump obama numbers '' meme recounts accura...   \n",
       "2           2  `` large-scale killing '' white farmers taking...   \n",
       "3           3  `` law separate families '' enacted prior apri...   \n",
       "4           4  `` newly uncovered '' photograph reveals alexa...   \n",
       "\n",
       "                                               title  \n",
       "0  122 prisoners released guantanamo president ob...  \n",
       "1        meme accurately show ‘ trump obama numbers   \n",
       "2  ‘ large-scale killing white farmers underway s...  \n",
       "3   ‘ law separate families passed 1997 ‘ democrats   \n",
       "4  image show ocasio-cortez fake-crying migrant c...  "
      ]
     },
     "execution_count": 9,
     "metadata": {},
     "output_type": "execute_result"
    }
   ],
   "source": [
    "vclaim.head()"
   ]
  },
  {
   "cell_type": "code",
   "execution_count": null,
   "metadata": {},
   "outputs": [],
   "source": []
  }
 ],
 "metadata": {
  "kernelspec": {
   "display_name": "Python 3",
   "language": "python",
   "name": "python3"
  },
  "language_info": {
   "codemirror_mode": {
    "name": "ipython",
    "version": 3
   },
   "file_extension": ".py",
   "mimetype": "text/x-python",
   "name": "python",
   "nbconvert_exporter": "python",
   "pygments_lexer": "ipython3",
   "version": "3.7.3"
  }
 },
 "nbformat": 4,
 "nbformat_minor": 2
}
